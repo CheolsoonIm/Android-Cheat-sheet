{
  "cells": [
    {
      "cell_type": "markdown",
      "metadata": {
        "id": "view-in-github",
        "colab_type": "text"
      },
      "source": [
        "<a href=\"https://colab.research.google.com/github/CheolsoonIm/Android-Cheat-sheet/blob/master/pandasVsSpark.ipynb\" target=\"_parent\"><img src=\"https://colab.research.google.com/assets/colab-badge.svg\" alt=\"Open In Colab\"/></a>"
      ]
    },
    {
      "cell_type": "code",
      "execution_count": 1,
      "metadata": {
        "colab": {
          "base_uri": "https://localhost:8080/"
        },
        "id": "2d6qt7v_VHPK",
        "outputId": "a687ef37-ac6f-4af6-ec24-34f287ee54f9"
      },
      "outputs": [
        {
          "output_type": "stream",
          "name": "stdout",
          "text": [
            "Dataset downloaded!\n"
          ]
        }
      ],
      "source": [
        "# To download a dataset and prepare to use\n",
        "\n",
        "import urllib.request\n",
        "url=\"https://github.com/DataTalksClub/nyc-tlc-data/releases/download/yellow/yellow_tripdata_2019-01.csv.gz\"\n",
        "file_path=\"yellow_tripdata_2019-01.csv.gz\"\n",
        "\n",
        "urllib.request.urlretrieve(url,file_path)\n",
        "print(\"Dataset downloaded!\")\n"
      ]
    },
    {
      "cell_type": "code",
      "execution_count": 2,
      "metadata": {
        "colab": {
          "base_uri": "https://localhost:8080/"
        },
        "id": "LE7srCePVHPL",
        "outputId": "e2cd8b23-c886-4ff5-f140-a8ed1d0f1d39"
      },
      "outputs": [
        {
          "output_type": "stream",
          "name": "stdout",
          "text": [
            "Pandas: Data loaded in 34.62 seconds\n",
            "Pandas: Filter operation took 0.16 seconds\n",
            "Pandas: Aggregation took 0.02 seconds\n",
            "Pandas: Average trip distance is 2.80 miles\n"
          ]
        }
      ],
      "source": [
        "import pandas as pd\n",
        "import time\n",
        "\n",
        "# Load dataset\n",
        "start_time=time.time()\n",
        "df=pd.read_csv(\"yellow_tripdata_2019-01.csv.gz\",compression='gzip')\n",
        "load_time=time.time()-start_time\n",
        "print(f\"Pandas: Data loaded in {load_time:.2f} seconds\")\n",
        "\n",
        "# Filter trips longer than 10 miles\n",
        "start_time=time.time()\n",
        "long_trips=df[df['trip_distance']>10]\n",
        "filter_time=time.time()-start_time\n",
        "print(f\"Pandas: Filter operation took {filter_time:.2f} seconds\")\n",
        "\n",
        "# Calculate average trip distance\n",
        "start_time=time.time()\n",
        "avg_distance=df['trip_distance'].mean()\n",
        "agg_time=time.time()-start_time\n",
        "print(f\"Pandas: Aggregation took {agg_time:.2f} seconds\")\n",
        "print(f\"Pandas: Average trip distance is {avg_distance:.2f} miles\")\n",
        "\n"
      ]
    },
    {
      "cell_type": "code",
      "execution_count": 3,
      "metadata": {
        "colab": {
          "base_uri": "https://localhost:8080/"
        },
        "id": "25NQTMMQVHPL",
        "outputId": "e8ed1358-b643-42c2-fc31-0aefbab3bc00"
      },
      "outputs": [
        {
          "output_type": "stream",
          "name": "stdout",
          "text": [
            "Spark: Data loaded in 56.13 seconds\n",
            "Spark: Filter operation took 18.98 seconds\n",
            "Spark: Aggregation took 17.65 seconds\n",
            "Spark: Average trip distance is 2.80 miles\n"
          ]
        }
      ],
      "source": [
        "# Spark\n",
        "from pyspark.sql import SparkSession\n",
        "from pyspark.sql.functions import mean\n",
        "import time\n",
        "\n",
        "# to initialize SparkSession\n",
        "spark=SparkSession.builder.appName(\"NYC_Taxi_Comparison\").getOrCreate()\n",
        "\n",
        "# to load dataset\n",
        "start_time=time.time()\n",
        "df=spark.read.csv(\"yellow_tripdata_2019-01.csv.gz\",header=True,inferSchema=True)\n",
        "load_time=time.time()-start_time\n",
        "print(f\"Spark: Data loaded in {load_time:.2f} seconds\")\n",
        "\n",
        "# to filter trips longer than 10 miles\n",
        "start_time=time.time()\n",
        "long_trips=df.filter(df['trip_distance']>10)\n",
        "long_trips_count=long_trips.count() # to trigger computation\n",
        "filter_time=time.time()-start_time\n",
        "print(f\"Spark: Filter operation took {filter_time:.2f} seconds\")\n",
        "\n",
        "# To calculate average trip distance\n",
        "start_time=time.time()\n",
        "avg_distance=df.select(mean('trip_distance')).collect()[0][0] #\n",
        "agg_time=time.time()-start_time\n",
        "print(f\"Spark: Aggregation took {agg_time:.2f} seconds\")\n",
        "print(f\"Spark: Average trip distance is {avg_distance:.2f} miles\")"
      ]
    },
    {
      "cell_type": "markdown",
      "metadata": {
        "id": "oXwGPq9gVHPM"
      },
      "source": [
        "Pandas: Data loaded in 11.69 seconds\n",
        "Pandas: Filter operation took 0.15 seconds\n",
        "Pandas: Aggregation took 0.02 seconds\n",
        "Pandas: Average trip distance is 2.80 miles\n",
        "Spark: Data loaded in 19.65 seconds\n",
        "Spark: Filter operation took 8.17 seconds\n",
        "Spark: Aggregation took 9.04 seconds\n",
        "Spark: Average trip distance is 2.80 miles\n",
        "\n",
        "\n"
      ]
    },
    {
      "cell_type": "code",
      "execution_count": 4,
      "metadata": {
        "id": "z7aww4shVHPM"
      },
      "outputs": [],
      "source": [
        "# To compare memory usage\n",
        "\n",
        "# install required library\n",
        "# pip install psutil"
      ]
    },
    {
      "cell_type": "code",
      "execution_count": 6,
      "metadata": {
        "colab": {
          "base_uri": "https://localhost:8080/"
        },
        "id": "ENK8aCVnVHPN",
        "outputId": "8423be4a-c31e-4009-a926-2195546489fe"
      },
      "outputs": [
        {
          "output_type": "stream",
          "name": "stdout",
          "text": [
            "Pandas: Data loaded in 22.93 seconds,       Memory: 2969.20 MB\n",
            "Pandas: Filter operation took 0.51 seconds,       Memory: -2866.45 MB\n",
            "Pandas: Aggregation took 0.02 seconds,       Memory: 0.00 MB\n"
          ]
        }
      ],
      "source": [
        "# To monitor memory usage in Pandas\n",
        "import pandas as pd\n",
        "import psutil\n",
        "import time\n",
        "import os\n",
        "\n",
        "# Function to get memory usage in MB\n",
        "def get_memory_usage():\n",
        "    process=psutil.Process(os.getpid())\n",
        "    return process.memory_info().rss/1024/1024 # convert to MB\n",
        "# To track memory before loading\n",
        "mem_before=get_memory_usage()\n",
        "# To load dataset\n",
        "start_time=time.time()\n",
        "df=pd.read_csv(\"yellow_tripdata_2019-01.csv.gz\",compression='gzip')\n",
        "load_time=time.time()-start_time\n",
        "mem_after_load=get_memory_usage()\n",
        "# To filter trips longer than 10 miles\n",
        "start_time=time.time()\n",
        "long_trips=df[df['trip_distance']>10]\n",
        "filter_time=time.time()-start_time\n",
        "mem_after_filter=get_memory_usage()\n",
        "# To calculate average trip distance\n",
        "start_time=time.time()\n",
        "avg_distance=df['trip_distance'].mean()\n",
        "agg_time=time.time()-start_time\n",
        "mem_after_agg=get_memory_usage()\n",
        "\n",
        "import pandas as pd\n",
        "import psutil\n",
        "import time\n",
        "import os\n",
        "\n",
        "# Function to get memory usage in MB\n",
        "def get_memory_usage():\n",
        "    process = psutil.Process(os.getpid())\n",
        "    return process.memory_info().rss / 1024 / 1024  # Convert to MB\n",
        "\n",
        "# Track memory before loading\n",
        "mem_before = get_memory_usage()\n",
        "\n",
        "# Load dataset\n",
        "start_time = time.time()\n",
        "df = pd.read_csv(\"yellow_tripdata_2019-01.csv.gz\", compression='gzip')\n",
        "load_time = time.time() - start_time\n",
        "mem_after_load = get_memory_usage()\n",
        "\n",
        "# Filter trips longer than 10 miles\n",
        "start_time = time.time()\n",
        "long_trips = df[df['trip_distance'] > 10]\n",
        "filter_time = time.time() - start_time\n",
        "mem_after_filter = get_memory_usage()\n",
        "\n",
        "# Calculate average trip distance\n",
        "start_time = time.time()\n",
        "avg_distance = df['trip_distance'].mean()\n",
        "agg_time = time.time() - start_time\n",
        "mem_after_agg = get_memory_usage()\n",
        "\n",
        "\n",
        "\n",
        "# To print results\n",
        "print(f\"Pandas: Data loaded in {load_time:.2f} seconds, \\\n",
        "      Memory: {mem_after_load-mem_before:.2f} MB\")\n",
        "print(f\"Pandas: Filter operation took {filter_time:.2f} seconds, \\\n",
        "      Memory: {mem_after_filter-mem_after_load:.2f} MB\")\n",
        "print(f\"Pandas: Aggregation took {agg_time:.2f} seconds, \\\n",
        "      Memory: {mem_after_agg-mem_after_filter:.2f} MB\")\n",
        "\n"
      ]
    },
    {
      "cell_type": "code",
      "execution_count": 7,
      "metadata": {
        "id": "B5scjk53VHPN"
      },
      "outputs": [],
      "source": [
        "# To monitor memory usage in Spark"
      ]
    },
    {
      "cell_type": "code",
      "execution_count": 8,
      "metadata": {
        "id": "Jv1lSa6iVHPN"
      },
      "outputs": [],
      "source": [
        "# To do the same thing with bigger dataset (>1gb?)"
      ]
    }
  ],
  "metadata": {
    "kernelspec": {
      "display_name": "Python 3",
      "language": "python",
      "name": "python3"
    },
    "language_info": {
      "codemirror_mode": {
        "name": "ipython",
        "version": 3
      },
      "file_extension": ".py",
      "mimetype": "text/x-python",
      "name": "python",
      "nbconvert_exporter": "python",
      "pygments_lexer": "ipython3",
      "version": "3.11.9"
    },
    "colab": {
      "provenance": [],
      "include_colab_link": true
    }
  },
  "nbformat": 4,
  "nbformat_minor": 0
}